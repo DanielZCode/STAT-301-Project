{
 "cells": [
  {
   "cell_type": "markdown",
   "id": "b99cca57-f149-4881-8991-55f5229d3c6a",
   "metadata": {},
   "source": [
    "## Introduction"
   ]
  },
  {
   "cell_type": "code",
   "execution_count": null,
   "id": "ff6cb28c-3a78-4922-8130-29266ef221bb",
   "metadata": {},
   "outputs": [],
   "source": [
    "library(tidyverse)\n",
    "library(broom)\n",
    "\n",
    "\n"
   ]
  },
  {
   "cell_type": "markdown",
   "id": "bd768bf0-76ea-4e1b-9652-691a836b017a",
   "metadata": {},
   "source": [
    "### Preliminary Results\n",
    "In this section, we will demonstrate that we can read the data from the web and wrangle it into a tidy format. We will also address our primary question with plots and tables.\n",
    "#### Reading the Data"
   ]
  },
  {
   "cell_type": "code",
   "execution_count": null,
   "id": "fccb49bd-75c7-4852-b6a8-833c23a82b49",
   "metadata": {},
   "outputs": [],
   "source": [
    "steam_games <- read_csv('https://raw.githubusercontent.com/DanielZCode/STAT-301-Project/main/games-features-edit.csv') # read_csv on url which responds with the data\n",
    "head(steam_games) # preview of the data \n",
    "nrow(steam_games) # 12624 data points (games)\n",
    "colnames(steam_games) #variable names\n",
    "length(colnames(steam_games)) #number of variables == 19\n"
   ]
  },
  {
   "cell_type": "markdown",
   "id": "09d9606f-ec40-487e-a4e9-360610cc78fe",
   "metadata": {},
   "source": [
    "### Wrangling \n",
    "In order to correctly use the `ReleaseDate` variable, we will need to convert it from its current character-based format to a numerical value. Although it would be convenient to convert this variable year that the game was released, that would not be a true continuous variable since years are mostly discrete (especially in the case of Steam games, where the data available is fairly recent). Hence, we will need to convert `ReleaseDate` to a continuous variable representing the number of days passed since January 1st, 1970. This is a common representation of time in computers. \n",
    "\n",
    "In addition, we will filter the data for missing values, and in particular check that a game's `Metacritic` score is not 0, because that indicates a lack of reviews and an unplayed game. We will also filter only for games that were released after 1970.\n"
   ]
  },
  {
   "cell_type": "code",
   "execution_count": null,
   "id": "81f9e974-7e40-45b7-9306-43c49bb2cf89",
   "metadata": {},
   "outputs": [],
   "source": [
    "steam_games$ReleaseDate <- steam_games$ReleaseDate %>% as.Date(format=\"%b%d%Y\") %>%  as.numeric() #convert dates to days since 1970 (default internal representation) \n",
    "\n",
    "\n",
    "steam_games <- steam_games %>% drop_na() %>% filter(Metacritic > 0, ReleaseDate > 0) # filter for more than 0 days passed since 1970, metacritic score > 0\n",
    "\n",
    "\n",
    "head(steam_games)\n",
    "nrow(steam_games)\n",
    "\n"
   ]
  },
  {
   "cell_type": "markdown",
   "id": "4f07e022-2820-4439-a8a7-faf7cc9e50e6",
   "metadata": {},
   "source": [
    "### Exploratory Analysis\n",
    "In this section we will explore some estimates variables. In addition we will plot visualizations of our reponse variable, `Metacritic`, and its relation to other variables.\n",
    "\n",
    "First, let us see the distribution of `Metacritic` scores."
   ]
  },
  {
   "cell_type": "code",
   "execution_count": null,
   "id": "02c53087-0fbb-42ee-aec5-31994391cc8b",
   "metadata": {},
   "outputs": [],
   "source": [
    "options(repr.plot.width = 7, repr.plot.height = 5)\n",
    "\n",
    "steam_games_metacritic_dist <- steam_games %>% ggplot() +\n",
    "    geom_histogram(aes(x = Metacritic), bins = 35, color = '#FF00FF') +\n",
    "    ggtitle('Figure 1: Distribution of Metacritic Scores') +\n",
    "    labs(x = 'Metacritic Score', y = 'Count')\n",
    "\n",
    "steam_games_metacritic_dist\n",
    "    "
   ]
  },
  {
   "cell_type": "markdown",
   "id": "7c9a9e95-4ab7-4ac3-8319-ecd0cd36217d",
   "metadata": {},
   "source": [
    "Next, let us plot the relationship of Metacritic Score with the other continous variables."
   ]
  },
  {
   "cell_type": "code",
   "execution_count": null,
   "id": "19ddf056-bb93-4846-ace7-6daa5bfc2e38",
   "metadata": {},
   "outputs": [],
   "source": [
    "steam_games_metacritic_releasedate_plot <- steam_games %>% ggplot() +\n",
    "    geom_point(aes(x = ReleaseDate, y = Metacritic), size = 0.8, alpha = 0.7) +\n",
    "    ggtitle('Relationship Between Metacritic Score and Release Date of a Game') +\n",
    "    labs(y = 'Metacritic Score', x = 'Release Date (Number of Days passed since 1970)')\n",
    "steam_games_metacritic_releasedate_plot"
   ]
  },
  {
   "cell_type": "markdown",
   "id": "91090bf8-008e-41d4-8ee0-43756431433e",
   "metadata": {},
   "source": [
    "**Figure 1. Metacritic Score vs. Release Date**"
   ]
  },
  {
   "cell_type": "code",
   "execution_count": null,
   "id": "b5dacb25-ec74-4841-8459-e22c08cd60a8",
   "metadata": {},
   "outputs": [],
   "source": [
    "steam_games_metacritic_price_plot <- steam_games %>% ggplot() +\n",
    "    geom_point(aes(x = PriceInitial, y = Metacritic),  size = 0.8, alpha = 0.7) +\n",
    "    ggtitle('Relationship Between Price of a Game and Metacritic Score') +\n",
    "    labs(y = 'Metacritic Score', x = 'Price of a Game ($USD)')\n",
    "steam_games_metacritic_price_plot"
   ]
  },
  {
   "cell_type": "markdown",
   "id": "fe5d4877-ac37-44c5-b439-a9c2964fa0f7",
   "metadata": {},
   "source": [
    "**Figure 2. Metacritic Score vs Price**"
   ]
  },
  {
   "cell_type": "markdown",
   "id": "cfb0c4d0-e985-4c49-938b-1eef5ea8e170",
   "metadata": {},
   "source": [
    "Below we will compute some estimates of the data.\n"
   ]
  },
  {
   "cell_type": "code",
   "execution_count": null,
   "id": "7bb32c69-a9f8-4a54-b2ad-a699c265d16f",
   "metadata": {},
   "outputs": [],
   "source": [
    "steam_games_summarized <- steam_games %>% summarize(ReleaseDate_mean = mean(ReleaseDate), \n",
    "                                                    ReleaseDate_mean_Date = format(as.Date(ReleaseDate_mean, origin ='1970-01-01'), '%B %d, %Y'),\n",
    "                                                    Metacritic_mean = mean(Metacritic), \n",
    "                                                    RecommendationCount_mean = mean(RecommendationCount),\n",
    "                                                    PriceInitial_mean = mean(PriceInitial))\n",
    "steam_games_summarized"
   ]
  },
  {
   "cell_type": "markdown",
   "id": "f25c6072-507d-4e9d-b10a-8ae21618bc26",
   "metadata": {},
   "source": [
    "**Figure 3. Averages of different variables**\n",
    "\n",
    "As we can see, the average Metacritic score of a Steam game is approximately **72**, and the average release date was in **November, 2012**. In addition, Steam games have received **4637** recommendations on average, and have a mean price of **$14.86**."
   ]
  },
  {
   "cell_type": "code",
   "execution_count": null,
   "id": "03eb0664-9e9b-4d6e-876a-a2899c08a602",
   "metadata": {},
   "outputs": [],
   "source": []
  },
  {
   "cell_type": "code",
   "execution_count": null,
   "id": "2972c1af-390c-42d9-8d72-c8e3be786efc",
   "metadata": {},
   "outputs": [],
   "source": []
  }
 ],
 "metadata": {
  "kernelspec": {
   "display_name": "R",
   "language": "R",
   "name": "ir"
  },
  "language_info": {
   "codemirror_mode": "r",
   "file_extension": ".r",
   "mimetype": "text/x-r-source",
   "name": "R",
   "pygments_lexer": "r",
   "version": "4.1.3"
  }
 },
 "nbformat": 4,
 "nbformat_minor": 5
}
